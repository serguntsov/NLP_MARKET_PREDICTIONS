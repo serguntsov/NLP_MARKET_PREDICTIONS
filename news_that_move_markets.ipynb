{
 "cells": [
  {
   "cell_type": "markdown",
   "id": "80dc0211",
   "metadata": {},
   "source": [
    "### <h2 style=\"font-size: 40px;\">Влияние новостей на стоимость акций</h2>"
   ]
  },
  {
   "cell_type": "markdown",
   "id": "4e037567",
   "metadata": {},
   "source": [
    "#### Техническое задание \n",
    "\n",
    "Разработать модель для анализа сентимента новостей, связанных с компанией «Русагро», и оценить их влияние на динамику стоимости акций."
   ]
  },
  {
   "cell_type": "markdown",
   "id": "7abdec26",
   "metadata": {},
   "source": [
    "#### Описание данных\n",
    "\n",
    "* **`ragr_news.xlsx`** - новости из различных источников с 1 января 2025 по 30 апреля, которые содержат любое упоминание о компании.\n",
    "    - `story_id` - уникальный индентификатор новости\n",
    "    - `story_date` - дата появления новости в 12-часовом формате\n",
    "    - `title` - заголовок новости\n",
    "    - `text` - содержание новости\n",
    "    - `language` - отечественный или иностранный ресурс (ru/en)\n",
    "    - `source` - ссылка на ресурс новости\n",
    "    - `url` - ссылка на новость\n",
    "    - `char_length` - количество символов в новости\n",
    "    - `token_count` - количество слов в новости\n",
    "\n",
    "\n",
    "* **`ragr_prices.xlsx`** - файл с дневными ценами закрытия по ценам акции Русагро (с 17 февраля 2025 года).\n",
    "    - `TRADEDATE` - дата торгов\n",
    "    - `RGBI` - доходность гос. облигаций\n",
    "    - `IMOEXF` - динамика индекса рынка акций MOEX\n",
    "    - `RAGR` - цена закрытия акции\n",
    "    - `Urals` - стоимость нефти марки Юралз"
   ]
  },
  {
   "cell_type": "code",
   "execution_count": 26,
   "id": "335a001d",
   "metadata": {},
   "outputs": [],
   "source": [
    "import pandas as pd\n",
    "import numpy as np\n",
    "import matplotlib.pyplot as plt\n",
    "import seaborn as sns\n",
    "import os.path\n",
    "import nltk\n",
    "import wordninja\n",
    "import re\n",
    "import torch\n",
    "import torch.nn.functional as F\n",
    "\n",
    "from transformers import AutoModelForSequenceClassification\n",
    "from transformers import BertTokenizerFast\n",
    "\n",
    "\n",
    "# Собственный русскоязычный словарь\n",
    "wordninja.DEFAULT_LANGUAGE_MODEL = wordninja.LanguageModel('./russian_dictionary/ru_lang_utf8.txt.gz')\n",
    "wordninja._SPLIT_RE = re.compile(r'\\s+')"
   ]
  },
  {
   "cell_type": "markdown",
   "id": "16ccbbf6",
   "metadata": {},
   "source": [
    "### Загрузка данных"
   ]
  },
  {
   "cell_type": "code",
   "execution_count": 3,
   "id": "4a88948e",
   "metadata": {},
   "outputs": [],
   "source": [
    "# Функция для быстрого ознакомления и парсинга таблицы\n",
    "def parse_dataset(path):\n",
    "    df = pd.read_excel(path)\n",
    "    display(df.head())\n",
    "\n",
    "    display(round(df.isna().mean() * 100, 2).sort_values(ascending=False).to_frame(name='Процент пропусков'))\n",
    "\n",
    "    df.info()\n",
    "    return df\n",
    "\n",
    "\n",
    "# Функция для проверки наличия файла\n",
    "def check_dataset(path):    \n",
    "    if os.path.exists(path):\n",
    "        return parse_dataset(path)\n",
    "    else:\n",
    "        print('Неправильный путь к файлу')"
   ]
  },
  {
   "cell_type": "code",
   "execution_count": 4,
   "id": "0f1e6363",
   "metadata": {},
   "outputs": [
    {
     "data": {
      "text/html": [
       "<div>\n",
       "<style scoped>\n",
       "    .dataframe tbody tr th:only-of-type {\n",
       "        vertical-align: middle;\n",
       "    }\n",
       "\n",
       "    .dataframe tbody tr th {\n",
       "        vertical-align: top;\n",
       "    }\n",
       "\n",
       "    .dataframe thead th {\n",
       "        text-align: right;\n",
       "    }\n",
       "</style>\n",
       "<table border=\"1\" class=\"dataframe\">\n",
       "  <thead>\n",
       "    <tr style=\"text-align: right;\">\n",
       "      <th></th>\n",
       "      <th>Unnamed: 0</th>\n",
       "      <th>story_id</th>\n",
       "      <th>story_date</th>\n",
       "      <th>title</th>\n",
       "      <th>text</th>\n",
       "      <th>language</th>\n",
       "      <th>source</th>\n",
       "      <th>url</th>\n",
       "      <th>char_length</th>\n",
       "      <th>token_count</th>\n",
       "    </tr>\n",
       "  </thead>\n",
       "  <tbody>\n",
       "    <tr>\n",
       "      <th>0</th>\n",
       "      <td>4661</td>\n",
       "      <td>5358</td>\n",
       "      <td>1/1/2025 12:00:00 AM</td>\n",
       "      <td>Ц е н т р о б а н к   Р Ф   з а к р ы л   д о ...</td>\n",
       "      <td>Ц е н т р о б а н к Р Ф з а к р ы л д о с т у ...</td>\n",
       "      <td>ru</td>\n",
       "      <td>https://m.interfax.ru/news/</td>\n",
       "      <td>https://m.interfax.ru/1001431</td>\n",
       "      <td>1375</td>\n",
       "      <td>315</td>\n",
       "    </tr>\n",
       "    <tr>\n",
       "      <th>1</th>\n",
       "      <td>15249</td>\n",
       "      <td>17527</td>\n",
       "      <td>1/3/2025 12:00:00 AM</td>\n",
       "      <td>В 2024 году Саратовская область зафиксировала ...</td>\n",
       "      <td>В 2024 году Саратовская область зафиксировала ...</td>\n",
       "      <td>ru</td>\n",
       "      <td>https://www.kommersant.ru/regions/64</td>\n",
       "      <td>https://www.kommersant.ru/doc/7421226</td>\n",
       "      <td>1200</td>\n",
       "      <td>247</td>\n",
       "    </tr>\n",
       "    <tr>\n",
       "      <th>2</th>\n",
       "      <td>46576</td>\n",
       "      <td>53356</td>\n",
       "      <td>1/9/2025 12:00:00 AM</td>\n",
       "      <td>Губернатор Вячеслав Гладков вручил Премию имен...</td>\n",
       "      <td>Губернатор Вячеслав Гладков вручил Премию имен...</td>\n",
       "      <td>ru</td>\n",
       "      <td>https://bel.aif.ru/</td>\n",
       "      <td>https://bel.aif.ru/society/gubernator-gladkov-...</td>\n",
       "      <td>3146</td>\n",
       "      <td>810</td>\n",
       "    </tr>\n",
       "    <tr>\n",
       "      <th>3</th>\n",
       "      <td>49578</td>\n",
       "      <td>57182</td>\n",
       "      <td>1/10/2025 12:00:00 AM</td>\n",
       "      <td>В   П р и м о р ь е   п о с е в н ы е   п л о ...</td>\n",
       "      <td>В П р и м о р ь е п о с е в н ы е п л о щ а д ...</td>\n",
       "      <td>ru</td>\n",
       "      <td>https://tass.ru/ekonomika</td>\n",
       "      <td>https://tass.ru/ekonomika/22847513</td>\n",
       "      <td>2869</td>\n",
       "      <td>652</td>\n",
       "    </tr>\n",
       "    <tr>\n",
       "      <th>4</th>\n",
       "      <td>105012</td>\n",
       "      <td>120289</td>\n",
       "      <td>1/17/2025 12:00:00 AM</td>\n",
       "      <td>17.01.2025 10:31 В аграрном секторе России наз...</td>\n",
       "      <td>17.01.2025 10:31 В аграрном секторе России наз...</td>\n",
       "      <td>ru</td>\n",
       "      <td>https://ru24.net/moscow/rss/</td>\n",
       "      <td>https://ru24.net/moscow/395923374/</td>\n",
       "      <td>2513</td>\n",
       "      <td>529</td>\n",
       "    </tr>\n",
       "  </tbody>\n",
       "</table>\n",
       "</div>"
      ],
      "text/plain": [
       "   Unnamed: 0  story_id             story_date  \\\n",
       "0        4661      5358   1/1/2025 12:00:00 AM   \n",
       "1       15249     17527   1/3/2025 12:00:00 AM   \n",
       "2       46576     53356   1/9/2025 12:00:00 AM   \n",
       "3       49578     57182  1/10/2025 12:00:00 AM   \n",
       "4      105012    120289  1/17/2025 12:00:00 AM   \n",
       "\n",
       "                                               title  \\\n",
       "0  Ц е н т р о б а н к   Р Ф   з а к р ы л   д о ...   \n",
       "1  В 2024 году Саратовская область зафиксировала ...   \n",
       "2  Губернатор Вячеслав Гладков вручил Премию имен...   \n",
       "3  В   П р и м о р ь е   п о с е в н ы е   п л о ...   \n",
       "4  17.01.2025 10:31 В аграрном секторе России наз...   \n",
       "\n",
       "                                                text language  \\\n",
       "0  Ц е н т р о б а н к Р Ф з а к р ы л д о с т у ...       ru   \n",
       "1  В 2024 году Саратовская область зафиксировала ...       ru   \n",
       "2  Губернатор Вячеслав Гладков вручил Премию имен...       ru   \n",
       "3  В П р и м о р ь е п о с е в н ы е п л о щ а д ...       ru   \n",
       "4  17.01.2025 10:31 В аграрном секторе России наз...       ru   \n",
       "\n",
       "                                 source  \\\n",
       "0           https://m.interfax.ru/news/   \n",
       "1  https://www.kommersant.ru/regions/64   \n",
       "2                   https://bel.aif.ru/   \n",
       "3             https://tass.ru/ekonomika   \n",
       "4          https://ru24.net/moscow/rss/   \n",
       "\n",
       "                                                 url  char_length  token_count  \n",
       "0                      https://m.interfax.ru/1001431         1375          315  \n",
       "1              https://www.kommersant.ru/doc/7421226         1200          247  \n",
       "2  https://bel.aif.ru/society/gubernator-gladkov-...         3146          810  \n",
       "3                 https://tass.ru/ekonomika/22847513         2869          652  \n",
       "4                 https://ru24.net/moscow/395923374/         2513          529  "
      ]
     },
     "metadata": {},
     "output_type": "display_data"
    },
    {
     "data": {
      "text/html": [
       "<div>\n",
       "<style scoped>\n",
       "    .dataframe tbody tr th:only-of-type {\n",
       "        vertical-align: middle;\n",
       "    }\n",
       "\n",
       "    .dataframe tbody tr th {\n",
       "        vertical-align: top;\n",
       "    }\n",
       "\n",
       "    .dataframe thead th {\n",
       "        text-align: right;\n",
       "    }\n",
       "</style>\n",
       "<table border=\"1\" class=\"dataframe\">\n",
       "  <thead>\n",
       "    <tr style=\"text-align: right;\">\n",
       "      <th></th>\n",
       "      <th>Процент пропусков</th>\n",
       "    </tr>\n",
       "  </thead>\n",
       "  <tbody>\n",
       "    <tr>\n",
       "      <th>Unnamed: 0</th>\n",
       "      <td>0.0</td>\n",
       "    </tr>\n",
       "    <tr>\n",
       "      <th>story_id</th>\n",
       "      <td>0.0</td>\n",
       "    </tr>\n",
       "    <tr>\n",
       "      <th>story_date</th>\n",
       "      <td>0.0</td>\n",
       "    </tr>\n",
       "    <tr>\n",
       "      <th>title</th>\n",
       "      <td>0.0</td>\n",
       "    </tr>\n",
       "    <tr>\n",
       "      <th>text</th>\n",
       "      <td>0.0</td>\n",
       "    </tr>\n",
       "    <tr>\n",
       "      <th>language</th>\n",
       "      <td>0.0</td>\n",
       "    </tr>\n",
       "    <tr>\n",
       "      <th>source</th>\n",
       "      <td>0.0</td>\n",
       "    </tr>\n",
       "    <tr>\n",
       "      <th>url</th>\n",
       "      <td>0.0</td>\n",
       "    </tr>\n",
       "    <tr>\n",
       "      <th>char_length</th>\n",
       "      <td>0.0</td>\n",
       "    </tr>\n",
       "    <tr>\n",
       "      <th>token_count</th>\n",
       "      <td>0.0</td>\n",
       "    </tr>\n",
       "  </tbody>\n",
       "</table>\n",
       "</div>"
      ],
      "text/plain": [
       "             Процент пропусков\n",
       "Unnamed: 0                 0.0\n",
       "story_id                   0.0\n",
       "story_date                 0.0\n",
       "title                      0.0\n",
       "text                       0.0\n",
       "language                   0.0\n",
       "source                     0.0\n",
       "url                        0.0\n",
       "char_length                0.0\n",
       "token_count                0.0"
      ]
     },
     "metadata": {},
     "output_type": "display_data"
    },
    {
     "name": "stdout",
     "output_type": "stream",
     "text": [
      "<class 'pandas.core.frame.DataFrame'>\n",
      "RangeIndex: 529 entries, 0 to 528\n",
      "Data columns (total 10 columns):\n",
      " #   Column       Non-Null Count  Dtype \n",
      "---  ------       --------------  ----- \n",
      " 0   Unnamed: 0   529 non-null    int64 \n",
      " 1   story_id     529 non-null    int64 \n",
      " 2   story_date   529 non-null    object\n",
      " 3   title        529 non-null    object\n",
      " 4   text         529 non-null    object\n",
      " 5   language     529 non-null    object\n",
      " 6   source       529 non-null    object\n",
      " 7   url          529 non-null    object\n",
      " 8   char_length  529 non-null    int64 \n",
      " 9   token_count  529 non-null    int64 \n",
      "dtypes: int64(4), object(6)\n",
      "memory usage: 41.5+ KB\n"
     ]
    }
   ],
   "source": [
    "data_news = check_dataset('./datasets/ragr_news.xlsx')"
   ]
  },
  {
   "cell_type": "markdown",
   "id": "ace39e32",
   "metadata": {},
   "source": [
    "Датасет **`data_news`** не содержит пропусков. Дату появления новости `story_date` необходимо привести в 24-часовой формат. Название и содержание новости требуют предобработки. Содержание новости `text` содержит заголовок новости и саму новость."
   ]
  },
  {
   "cell_type": "code",
   "execution_count": 5,
   "id": "1ca736b5",
   "metadata": {},
   "outputs": [
    {
     "data": {
      "text/html": [
       "<div>\n",
       "<style scoped>\n",
       "    .dataframe tbody tr th:only-of-type {\n",
       "        vertical-align: middle;\n",
       "    }\n",
       "\n",
       "    .dataframe tbody tr th {\n",
       "        vertical-align: top;\n",
       "    }\n",
       "\n",
       "    .dataframe thead th {\n",
       "        text-align: right;\n",
       "    }\n",
       "</style>\n",
       "<table border=\"1\" class=\"dataframe\">\n",
       "  <thead>\n",
       "    <tr style=\"text-align: right;\">\n",
       "      <th></th>\n",
       "      <th>TRADEDATE</th>\n",
       "      <th>RGBI</th>\n",
       "      <th>IMOEXF</th>\n",
       "      <th>RAGR</th>\n",
       "      <th>Urals</th>\n",
       "    </tr>\n",
       "  </thead>\n",
       "  <tbody>\n",
       "    <tr>\n",
       "      <th>0</th>\n",
       "      <td>2025-02-17</td>\n",
       "      <td>16.62</td>\n",
       "      <td>3319.5</td>\n",
       "      <td>216.34</td>\n",
       "      <td>60.395</td>\n",
       "    </tr>\n",
       "    <tr>\n",
       "      <th>1</th>\n",
       "      <td>2025-02-18</td>\n",
       "      <td>16.60</td>\n",
       "      <td>3264.0</td>\n",
       "      <td>210.50</td>\n",
       "      <td>61.015</td>\n",
       "    </tr>\n",
       "    <tr>\n",
       "      <th>2</th>\n",
       "      <td>2025-02-19</td>\n",
       "      <td>16.58</td>\n",
       "      <td>3285.0</td>\n",
       "      <td>221.92</td>\n",
       "      <td>62.110</td>\n",
       "    </tr>\n",
       "    <tr>\n",
       "      <th>3</th>\n",
       "      <td>2025-02-20</td>\n",
       "      <td>16.41</td>\n",
       "      <td>3298.0</td>\n",
       "      <td>219.52</td>\n",
       "      <td>62.550</td>\n",
       "    </tr>\n",
       "    <tr>\n",
       "      <th>4</th>\n",
       "      <td>2025-02-21</td>\n",
       "      <td>16.37</td>\n",
       "      <td>3295.0</td>\n",
       "      <td>219.02</td>\n",
       "      <td>60.500</td>\n",
       "    </tr>\n",
       "  </tbody>\n",
       "</table>\n",
       "</div>"
      ],
      "text/plain": [
       "   TRADEDATE   RGBI  IMOEXF    RAGR   Urals\n",
       "0 2025-02-17  16.62  3319.5  216.34  60.395\n",
       "1 2025-02-18  16.60  3264.0  210.50  61.015\n",
       "2 2025-02-19  16.58  3285.0  221.92  62.110\n",
       "3 2025-02-20  16.41  3298.0  219.52  62.550\n",
       "4 2025-02-21  16.37  3295.0  219.02  60.500"
      ]
     },
     "metadata": {},
     "output_type": "display_data"
    },
    {
     "data": {
      "text/html": [
       "<div>\n",
       "<style scoped>\n",
       "    .dataframe tbody tr th:only-of-type {\n",
       "        vertical-align: middle;\n",
       "    }\n",
       "\n",
       "    .dataframe tbody tr th {\n",
       "        vertical-align: top;\n",
       "    }\n",
       "\n",
       "    .dataframe thead th {\n",
       "        text-align: right;\n",
       "    }\n",
       "</style>\n",
       "<table border=\"1\" class=\"dataframe\">\n",
       "  <thead>\n",
       "    <tr style=\"text-align: right;\">\n",
       "      <th></th>\n",
       "      <th>Процент пропусков</th>\n",
       "    </tr>\n",
       "  </thead>\n",
       "  <tbody>\n",
       "    <tr>\n",
       "      <th>RGBI</th>\n",
       "      <td>4.05</td>\n",
       "    </tr>\n",
       "    <tr>\n",
       "      <th>TRADEDATE</th>\n",
       "      <td>0.00</td>\n",
       "    </tr>\n",
       "    <tr>\n",
       "      <th>IMOEXF</th>\n",
       "      <td>0.00</td>\n",
       "    </tr>\n",
       "    <tr>\n",
       "      <th>RAGR</th>\n",
       "      <td>0.00</td>\n",
       "    </tr>\n",
       "    <tr>\n",
       "      <th>Urals</th>\n",
       "      <td>0.00</td>\n",
       "    </tr>\n",
       "  </tbody>\n",
       "</table>\n",
       "</div>"
      ],
      "text/plain": [
       "           Процент пропусков\n",
       "RGBI                    4.05\n",
       "TRADEDATE               0.00\n",
       "IMOEXF                  0.00\n",
       "RAGR                    0.00\n",
       "Urals                   0.00"
      ]
     },
     "metadata": {},
     "output_type": "display_data"
    },
    {
     "name": "stdout",
     "output_type": "stream",
     "text": [
      "<class 'pandas.core.frame.DataFrame'>\n",
      "RangeIndex: 74 entries, 0 to 73\n",
      "Data columns (total 5 columns):\n",
      " #   Column     Non-Null Count  Dtype         \n",
      "---  ------     --------------  -----         \n",
      " 0   TRADEDATE  74 non-null     datetime64[ns]\n",
      " 1   RGBI       71 non-null     float64       \n",
      " 2   IMOEXF     74 non-null     float64       \n",
      " 3   RAGR       74 non-null     float64       \n",
      " 4   Urals      74 non-null     float64       \n",
      "dtypes: datetime64[ns](1), float64(4)\n",
      "memory usage: 3.0 KB\n"
     ]
    }
   ],
   "source": [
    "data_prices = check_dataset('./datasets/ragr_prices.xlsx')"
   ]
  },
  {
   "cell_type": "markdown",
   "id": "17846a3a",
   "metadata": {},
   "source": [
    "Датасет **`data_prices`** содержит 4% пропусков в признаке `RGBI`. По возможности, следует добавить данные с 1 января 2025 года."
   ]
  },
  {
   "cell_type": "markdown",
   "id": "989b69d4",
   "metadata": {},
   "source": [
    "#### Вывод загрузки данных\n",
    "\n",
    "Датасеты связаны по дате. Данные в таблице **`data_news`** собраны за период *01.01.2025 - 25.04.2025*, в **`data_prices`** за *17.02.2025 - 29.05.2025*. \\\n",
    "В датасете **`data_prices`** содержатся пропуски."
   ]
  },
  {
   "cell_type": "markdown",
   "id": "f66ddfd4",
   "metadata": {},
   "source": [
    "### Предобработка данных"
   ]
  },
  {
   "cell_type": "markdown",
   "id": "988e8437",
   "metadata": {},
   "source": [
    "#### data_news"
   ]
  },
  {
   "cell_type": "code",
   "execution_count": 6,
   "id": "7f5d8e2d",
   "metadata": {},
   "outputs": [
    {
     "name": "stdout",
     "output_type": "stream",
     "text": [
      "Количество дубликатов: 0\n"
     ]
    }
   ],
   "source": [
    "print('Количество дубликатов:', sum(data_news.duplicated(subset=['story_id'])))"
   ]
  },
  {
   "cell_type": "code",
   "execution_count": 7,
   "id": "1f9c1338",
   "metadata": {},
   "outputs": [],
   "source": [
    "data_news['story_date'] = pd.to_datetime(data_news['story_date'], format='%m/%d/%Y %I:%M:%S %p')"
   ]
  },
  {
   "cell_type": "markdown",
   "id": "bd41f125",
   "metadata": {},
   "source": [
    "Дата `story_date` из **`data_news`** была переведена в формат 'YYYY-MM-DD'."
   ]
  },
  {
   "cell_type": "code",
   "execution_count": 8,
   "id": "1af6c713",
   "metadata": {},
   "outputs": [],
   "source": [
    "data_news.drop('Unnamed: 0', axis=1, inplace=True)"
   ]
  },
  {
   "cell_type": "markdown",
   "id": "577ac040",
   "metadata": {},
   "source": [
    "Колонка `Unnamed: 0` была удалена из датасета."
   ]
  },
  {
   "cell_type": "code",
   "execution_count": 9,
   "id": "0b3b9c73",
   "metadata": {},
   "outputs": [],
   "source": [
    "# Функция для предобработки обрезанных слов\n",
    "def replace_match(match):\n",
    "    spaced = match.group(0)\n",
    "    glued = spaced.replace(' ', '')\n",
    "    split = ' '.join(wordninja.split(glued))\n",
    "    return split\n",
    "\n",
    "\n",
    "# Функция для предобработки текста\n",
    "def fix_spaced_words(text):\n",
    "    spaced_word_pattern = r'(?:[А-Яа-яЁё]\\s){4,}[А-Яа-яЁё]' # Нарезка\n",
    "\n",
    "    text = re.sub(spaced_word_pattern, replace_match, text)\n",
    "    text = re.sub(r'http\\S+|www\\S+', '', text)\n",
    "    text = re.sub(r'(\\d+)\\.\\d+', r'\\1', text)\n",
    "    text = re.sub(r'[^\\w\\s]', '', text)\n",
    "    text = re.sub(r'\\s+', ' ', text)\n",
    "    text = text.lower().replace('рус а гро', 'русарго')\n",
    "\n",
    "    return text"
   ]
  },
  {
   "cell_type": "code",
   "execution_count": 10,
   "id": "011527d5",
   "metadata": {},
   "outputs": [],
   "source": [
    "data_news['title'] = data_news['title'].apply(lambda x: fix_spaced_words(x))\n",
    "data_news['text'] = data_news['text'].apply(lambda x: fix_spaced_words(x))"
   ]
  },
  {
   "cell_type": "markdown",
   "id": "ec761f8d",
   "metadata": {},
   "source": [
    "Текст и заголовок новостей, имеющие нарезанные буквы (пример: 'П е р е ш е д ш и е н а п р я м о е в л а д е н и е'), были предобработаны, используя библиотеку wordninja с адаптацией под кириллицу. Данная реализация плохо восстанавливает названия компаний и аббревиатуры даже при их наличии в словаре. \\\n",
    "Были убраны ссылки, спецсимволы, повторяющиеся пробелы. Дробные числа были строго урезаны до целых."
   ]
  },
  {
   "cell_type": "markdown",
   "id": "b6e8b833",
   "metadata": {},
   "source": [
    "#### data_prices"
   ]
  },
  {
   "cell_type": "code",
   "execution_count": 11,
   "id": "940dcf33",
   "metadata": {},
   "outputs": [
    {
     "data": {
      "text/html": [
       "<div>\n",
       "<style scoped>\n",
       "    .dataframe tbody tr th:only-of-type {\n",
       "        vertical-align: middle;\n",
       "    }\n",
       "\n",
       "    .dataframe tbody tr th {\n",
       "        vertical-align: top;\n",
       "    }\n",
       "\n",
       "    .dataframe thead th {\n",
       "        text-align: right;\n",
       "    }\n",
       "</style>\n",
       "<table border=\"1\" class=\"dataframe\">\n",
       "  <thead>\n",
       "    <tr style=\"text-align: right;\">\n",
       "      <th></th>\n",
       "      <th>TRADEDATE</th>\n",
       "      <th>RGBI</th>\n",
       "      <th>IMOEXF</th>\n",
       "      <th>RAGR</th>\n",
       "      <th>Urals</th>\n",
       "    </tr>\n",
       "  </thead>\n",
       "  <tbody>\n",
       "    <tr>\n",
       "      <th>5</th>\n",
       "      <td>2025-02-22</td>\n",
       "      <td>NaN</td>\n",
       "      <td>3295.0</td>\n",
       "      <td>219.02</td>\n",
       "      <td>60.500</td>\n",
       "    </tr>\n",
       "    <tr>\n",
       "      <th>11</th>\n",
       "      <td>2025-03-01</td>\n",
       "      <td>NaN</td>\n",
       "      <td>3205.5</td>\n",
       "      <td>229.80</td>\n",
       "      <td>58.795</td>\n",
       "    </tr>\n",
       "    <tr>\n",
       "      <th>12</th>\n",
       "      <td>2025-03-02</td>\n",
       "      <td>NaN</td>\n",
       "      <td>3205.5</td>\n",
       "      <td>229.80</td>\n",
       "      <td>58.795</td>\n",
       "    </tr>\n",
       "  </tbody>\n",
       "</table>\n",
       "</div>"
      ],
      "text/plain": [
       "    TRADEDATE  RGBI  IMOEXF    RAGR   Urals\n",
       "5  2025-02-22   NaN  3295.0  219.02  60.500\n",
       "11 2025-03-01   NaN  3205.5  229.80  58.795\n",
       "12 2025-03-02   NaN  3205.5  229.80  58.795"
      ]
     },
     "execution_count": 11,
     "metadata": {},
     "output_type": "execute_result"
    }
   ],
   "source": [
    "data_prices[data_prices['RGBI'].isna()]"
   ]
  },
  {
   "cell_type": "code",
   "execution_count": 12,
   "id": "6e367a82",
   "metadata": {},
   "outputs": [
    {
     "data": {
      "text/html": [
       "<div>\n",
       "<style scoped>\n",
       "    .dataframe tbody tr th:only-of-type {\n",
       "        vertical-align: middle;\n",
       "    }\n",
       "\n",
       "    .dataframe tbody tr th {\n",
       "        vertical-align: top;\n",
       "    }\n",
       "\n",
       "    .dataframe thead th {\n",
       "        text-align: right;\n",
       "    }\n",
       "</style>\n",
       "<table border=\"1\" class=\"dataframe\">\n",
       "  <thead>\n",
       "    <tr style=\"text-align: right;\">\n",
       "      <th></th>\n",
       "      <th>TRADEDATE</th>\n",
       "      <th>RGBI</th>\n",
       "      <th>IMOEXF</th>\n",
       "      <th>RAGR</th>\n",
       "      <th>Urals</th>\n",
       "    </tr>\n",
       "  </thead>\n",
       "  <tbody>\n",
       "    <tr>\n",
       "      <th>0</th>\n",
       "      <td>2025-02-17</td>\n",
       "      <td>16.62</td>\n",
       "      <td>3319.5</td>\n",
       "      <td>216.34</td>\n",
       "      <td>60.395</td>\n",
       "    </tr>\n",
       "    <tr>\n",
       "      <th>1</th>\n",
       "      <td>2025-02-18</td>\n",
       "      <td>16.60</td>\n",
       "      <td>3264.0</td>\n",
       "      <td>210.50</td>\n",
       "      <td>61.015</td>\n",
       "    </tr>\n",
       "    <tr>\n",
       "      <th>2</th>\n",
       "      <td>2025-02-19</td>\n",
       "      <td>16.58</td>\n",
       "      <td>3285.0</td>\n",
       "      <td>221.92</td>\n",
       "      <td>62.110</td>\n",
       "    </tr>\n",
       "    <tr>\n",
       "      <th>3</th>\n",
       "      <td>2025-02-20</td>\n",
       "      <td>16.41</td>\n",
       "      <td>3298.0</td>\n",
       "      <td>219.52</td>\n",
       "      <td>62.550</td>\n",
       "    </tr>\n",
       "    <tr>\n",
       "      <th>4</th>\n",
       "      <td>2025-02-21</td>\n",
       "      <td>16.37</td>\n",
       "      <td>3295.0</td>\n",
       "      <td>219.02</td>\n",
       "      <td>60.500</td>\n",
       "    </tr>\n",
       "    <tr>\n",
       "      <th>5</th>\n",
       "      <td>2025-02-22</td>\n",
       "      <td>NaN</td>\n",
       "      <td>3295.0</td>\n",
       "      <td>219.02</td>\n",
       "      <td>60.500</td>\n",
       "    </tr>\n",
       "    <tr>\n",
       "      <th>6</th>\n",
       "      <td>2025-02-24</td>\n",
       "      <td>16.41</td>\n",
       "      <td>3323.5</td>\n",
       "      <td>233.00</td>\n",
       "      <td>60.850</td>\n",
       "    </tr>\n",
       "    <tr>\n",
       "      <th>7</th>\n",
       "      <td>2025-02-25</td>\n",
       "      <td>16.32</td>\n",
       "      <td>3338.5</td>\n",
       "      <td>230.20</td>\n",
       "      <td>59.090</td>\n",
       "    </tr>\n",
       "    <tr>\n",
       "      <th>8</th>\n",
       "      <td>2025-02-26</td>\n",
       "      <td>16.27</td>\n",
       "      <td>3276.5</td>\n",
       "      <td>239.96</td>\n",
       "      <td>58.145</td>\n",
       "    </tr>\n",
       "    <tr>\n",
       "      <th>9</th>\n",
       "      <td>2025-02-27</td>\n",
       "      <td>16.25</td>\n",
       "      <td>3238.0</td>\n",
       "      <td>235.40</td>\n",
       "      <td>59.655</td>\n",
       "    </tr>\n",
       "    <tr>\n",
       "      <th>10</th>\n",
       "      <td>2025-02-28</td>\n",
       "      <td>16.22</td>\n",
       "      <td>3205.5</td>\n",
       "      <td>229.80</td>\n",
       "      <td>58.795</td>\n",
       "    </tr>\n",
       "    <tr>\n",
       "      <th>11</th>\n",
       "      <td>2025-03-01</td>\n",
       "      <td>NaN</td>\n",
       "      <td>3205.5</td>\n",
       "      <td>229.80</td>\n",
       "      <td>58.795</td>\n",
       "    </tr>\n",
       "    <tr>\n",
       "      <th>12</th>\n",
       "      <td>2025-03-02</td>\n",
       "      <td>NaN</td>\n",
       "      <td>3205.5</td>\n",
       "      <td>229.80</td>\n",
       "      <td>58.795</td>\n",
       "    </tr>\n",
       "    <tr>\n",
       "      <th>13</th>\n",
       "      <td>2025-03-03</td>\n",
       "      <td>16.20</td>\n",
       "      <td>3153.5</td>\n",
       "      <td>218.80</td>\n",
       "      <td>57.235</td>\n",
       "    </tr>\n",
       "    <tr>\n",
       "      <th>14</th>\n",
       "      <td>2025-03-04</td>\n",
       "      <td>15.98</td>\n",
       "      <td>3260.5</td>\n",
       "      <td>227.12</td>\n",
       "      <td>56.655</td>\n",
       "    </tr>\n",
       "  </tbody>\n",
       "</table>\n",
       "</div>"
      ],
      "text/plain": [
       "    TRADEDATE   RGBI  IMOEXF    RAGR   Urals\n",
       "0  2025-02-17  16.62  3319.5  216.34  60.395\n",
       "1  2025-02-18  16.60  3264.0  210.50  61.015\n",
       "2  2025-02-19  16.58  3285.0  221.92  62.110\n",
       "3  2025-02-20  16.41  3298.0  219.52  62.550\n",
       "4  2025-02-21  16.37  3295.0  219.02  60.500\n",
       "5  2025-02-22    NaN  3295.0  219.02  60.500\n",
       "6  2025-02-24  16.41  3323.5  233.00  60.850\n",
       "7  2025-02-25  16.32  3338.5  230.20  59.090\n",
       "8  2025-02-26  16.27  3276.5  239.96  58.145\n",
       "9  2025-02-27  16.25  3238.0  235.40  59.655\n",
       "10 2025-02-28  16.22  3205.5  229.80  58.795\n",
       "11 2025-03-01    NaN  3205.5  229.80  58.795\n",
       "12 2025-03-02    NaN  3205.5  229.80  58.795\n",
       "13 2025-03-03  16.20  3153.5  218.80  57.235\n",
       "14 2025-03-04  15.98  3260.5  227.12  56.655"
      ]
     },
     "execution_count": 12,
     "metadata": {},
     "output_type": "execute_result"
    }
   ],
   "source": [
    "data_prices.head(15)"
   ]
  },
  {
   "cell_type": "markdown",
   "id": "6ed11666",
   "metadata": {},
   "source": [
    "В датасете **`data_prices`** содержится 3 пропуска в колонке `RGBI`. Предыдущие записи `IMOEXF`,`RAGR` и `Urals` не отличаются от наблюдения с пропуском.\n",
    "Заменим пропущенные значения на значение прошлого дня."
   ]
  },
  {
   "cell_type": "code",
   "execution_count": 13,
   "id": "4ea55001",
   "metadata": {},
   "outputs": [],
   "source": [
    "def get_clear_dataset(df, clm):\n",
    "    for ind in df[df[clm].isna()].index:\n",
    "        if ~ np.isnan(df.loc[ind-1, clm]):\n",
    "            df.loc[ind, clm] = df.loc[ind-1, clm]\n",
    "\n",
    "    print('Количество пропусков после предобработки:', df[df[clm].isna()].shape[0])"
   ]
  },
  {
   "cell_type": "code",
   "execution_count": 14,
   "id": "1889d761",
   "metadata": {},
   "outputs": [
    {
     "name": "stdout",
     "output_type": "stream",
     "text": [
      "Количество пропусков после предобработки: 0\n"
     ]
    }
   ],
   "source": [
    "get_clear_dataset(data_prices, 'RGBI')"
   ]
  },
  {
   "cell_type": "markdown",
   "id": "feae1c28",
   "metadata": {},
   "source": [
    "Пропущенные значения признака `RGBI` были заменены на значения с предыдущего дня."
   ]
  },
  {
   "cell_type": "markdown",
   "id": "21788390",
   "metadata": {},
   "source": [
    "#### Вывод предобработки данных\n",
    "\n",
    "1. **`data_news`**:\n",
    "    - дата переведена в формат 'YYYY-MM-DD'\n",
    "    - признак `Unnamed: 0` удален\n",
    "    - нарезанные слова на буквы предобработаны\n",
    "    - убраны ссылки, спецсимволы, повторяющиеся пробелы, дроби\n",
    "\n",
    "2. **`data_prices`**:\n",
    "    - пропуски в признаке `RGBI` были заменены"
   ]
  },
  {
   "cell_type": "markdown",
   "id": "eca8d600",
   "metadata": {},
   "source": [
    "### Исследовательский анализ"
   ]
  },
  {
   "cell_type": "code",
   "execution_count": 15,
   "id": "dfd7024d",
   "metadata": {},
   "outputs": [],
   "source": [
    "# Функция для отображения гистограммы всех признаков\n",
    "def plt_hist(df):\n",
    "    plt.figure(figsize=(16, 8))\n",
    "    cols = df.columns[1:]\n",
    "    \n",
    "    for i, clm_n in enumerate(cols):\n",
    "        plt.subplot(2, 2, i+1)\n",
    "        if df[clm_n].nunique() >= 20 and pd.api.types.is_numeric_dtype(df[clm_n]):\n",
    "            axes = sns.kdeplot(data=df, x=clm_n, bw_method=0.1)\n",
    "        else:\n",
    "            continue\n",
    "        axes.set_ylabel('частота')"
   ]
  },
  {
   "cell_type": "code",
   "execution_count": 16,
   "id": "5403547a",
   "metadata": {},
   "outputs": [
    {
     "data": {
      "image/png": "[encoded data removed]",
      "text/plain": [
       "<Figure size 1600x800 with 4 Axes>"
      ]
     },
     "metadata": {},
     "output_type": "display_data"
    }
   ],
   "source": [
    "plt_hist(data_prices)\n",
    "plt.suptitle('Распределения стоимостей акций', y=0.92, fontsize=16)\n",
    "\n",
    "plt.show()"
   ]
  },
  {
   "cell_type": "markdown",
   "id": "27ecc81a",
   "metadata": {},
   "source": [
    "Наблюдается аномальное значение стоимости акции `Urals` равное 0."
   ]
  },
  {
   "cell_type": "code",
   "execution_count": 17,
   "id": "5eb9ebcc",
   "metadata": {},
   "outputs": [
    {
     "data": {
      "text/html": [
       "<div>\n",
       "<style scoped>\n",
       "    .dataframe tbody tr th:only-of-type {\n",
       "        vertical-align: middle;\n",
       "    }\n",
       "\n",
       "    .dataframe tbody tr th {\n",
       "        vertical-align: top;\n",
       "    }\n",
       "\n",
       "    .dataframe thead th {\n",
       "        text-align: right;\n",
       "    }\n",
       "</style>\n",
       "<table border=\"1\" class=\"dataframe\">\n",
       "  <thead>\n",
       "    <tr style=\"text-align: right;\">\n",
       "      <th></th>\n",
       "      <th>TRADEDATE</th>\n",
       "      <th>RGBI</th>\n",
       "      <th>IMOEXF</th>\n",
       "      <th>RAGR</th>\n",
       "      <th>Urals</th>\n",
       "    </tr>\n",
       "  </thead>\n",
       "  <tbody>\n",
       "    <tr>\n",
       "      <th>73</th>\n",
       "      <td>2025-05-29</td>\n",
       "      <td>16.02</td>\n",
       "      <td>2813.0</td>\n",
       "      <td>109.2</td>\n",
       "      <td>0.0</td>\n",
       "    </tr>\n",
       "  </tbody>\n",
       "</table>\n",
       "</div>"
      ],
      "text/plain": [
       "    TRADEDATE   RGBI  IMOEXF   RAGR  Urals\n",
       "73 2025-05-29  16.02  2813.0  109.2    0.0"
      ]
     },
     "metadata": {},
     "output_type": "display_data"
    }
   ],
   "source": [
    "display(data_prices.query('Urals == 0'))\n",
    "# Было бы неплохо заменить на реальное значение, но что-то не нашел идентичное распределение\n",
    "data_prices.loc[73, 'Urals'] = data_prices.loc[72, 'Urals']"
   ]
  },
  {
   "cell_type": "markdown",
   "id": "c6d7dee3",
   "metadata": {},
   "source": [
    "Нулевое значение стоимости акции `Urals` было заменено на стоимость акции предыдущего дня."
   ]
  },
  {
   "cell_type": "code",
   "execution_count": 18,
   "id": "d36a61bf",
   "metadata": {},
   "outputs": [],
   "source": [
    "# Функция для отображения диаграмм рассеяния всех признаков\n",
    "def plt_hist_time(df):\n",
    "    plt.figure(figsize=(16, 10))\n",
    "    i = 1\n",
    "    cols = df.columns[1:]\n",
    "    \n",
    "    for clm_n in cols:\n",
    "        plt.subplot(2, 2, i)\n",
    "        if pd.api.types.is_numeric_dtype(df[clm_n]):\n",
    "            sns.scatterplot(data=df, x='TRADEDATE', y=clm_n,)\n",
    "            plt.xticks(rotation=10)\n",
    "        i += 1"
   ]
  },
  {
   "cell_type": "code",
   "execution_count": 19,
   "id": "9d860b6b",
   "metadata": {},
   "outputs": [
    {
     "data": {
      "image/png": "[encoded data removed]",
      "text/plain": [
       "<Figure size 1600x1000 with 4 Axes>"
      ]
     },
     "metadata": {},
     "output_type": "display_data"
    }
   ],
   "source": [
    "plt_hist_time(data_prices)\n",
    "plt.suptitle('Распределения стоимостей акций в зависимости от даты', y=0.92, fontsize=16)\n",
    "\n",
    "plt.show()"
   ]
  },
  {
   "cell_type": "markdown",
   "id": "93aa715d",
   "metadata": {},
   "source": [
    "#### Вывод исследовательского анализа\n",
    "\n",
    "В датасете **`data_prices`** было обнаружено аномальное значение признака `Urals` равное нулю. \\\n",
    "Признак `RAGR` имеет бимодальное распределение. \\\n",
    "Наблюдается \"медвежий тренд\" акций Русарго."
   ]
  },
  {
   "cell_type": "markdown",
   "id": "8750d36b",
   "metadata": {},
   "source": [
    "### Подготовка данных и обучение модели"
   ]
  },
  {
   "cell_type": "code",
   "execution_count": 20,
   "id": "10938a17",
   "metadata": {},
   "outputs": [
    {
     "data": {
      "text/html": [
       "<div>\n",
       "<style scoped>\n",
       "    .dataframe tbody tr th:only-of-type {\n",
       "        vertical-align: middle;\n",
       "    }\n",
       "\n",
       "    .dataframe tbody tr th {\n",
       "        vertical-align: top;\n",
       "    }\n",
       "\n",
       "    .dataframe thead th {\n",
       "        text-align: right;\n",
       "    }\n",
       "</style>\n",
       "<table border=\"1\" class=\"dataframe\">\n",
       "  <thead>\n",
       "    <tr style=\"text-align: right;\">\n",
       "      <th></th>\n",
       "      <th>TRADEDATE</th>\n",
       "      <th>RGBI</th>\n",
       "      <th>IMOEXF</th>\n",
       "      <th>RAGR</th>\n",
       "      <th>Urals</th>\n",
       "      <th>story_id</th>\n",
       "      <th>title</th>\n",
       "      <th>text</th>\n",
       "      <th>language</th>\n",
       "      <th>source</th>\n",
       "      <th>url</th>\n",
       "      <th>char_length</th>\n",
       "      <th>token_count</th>\n",
       "    </tr>\n",
       "  </thead>\n",
       "  <tbody>\n",
       "    <tr>\n",
       "      <th>0</th>\n",
       "      <td>2025-02-17</td>\n",
       "      <td>16.62</td>\n",
       "      <td>3319.5</td>\n",
       "      <td>216.34</td>\n",
       "      <td>60.395</td>\n",
       "      <td>387746</td>\n",
       "      <td>ставка цб индекс мосбиржи старт торгов акциями...</td>\n",
       "      <td>ставка цб индекс мосбиржи старт торгов акциями...</td>\n",
       "      <td>ru</td>\n",
       "      <td>https://news.mail.ru/rss/economics/90/</td>\n",
       "      <td>https://news.mail.ru/economics/64905638/</td>\n",
       "      <td>7435</td>\n",
       "      <td>1947</td>\n",
       "    </tr>\n",
       "    <tr>\n",
       "      <th>1</th>\n",
       "      <td>2025-02-17</td>\n",
       "      <td>16.62</td>\n",
       "      <td>3319.5</td>\n",
       "      <td>216.34</td>\n",
       "      <td>60.395</td>\n",
       "      <td>389038</td>\n",
       "      <td>акции русагро подскочили на 40 на старте торго...</td>\n",
       "      <td>акции русагро подскочили на 40 на старте торго...</td>\n",
       "      <td>ru</td>\n",
       "      <td>https://news.mail.ru/rss/economics/90/</td>\n",
       "      <td>https://news.mail.ru/economics/64907729/</td>\n",
       "      <td>4192</td>\n",
       "      <td>962</td>\n",
       "    </tr>\n",
       "    <tr>\n",
       "      <th>2</th>\n",
       "      <td>2025-02-18</td>\n",
       "      <td>16.60</td>\n",
       "      <td>3264.0</td>\n",
       "      <td>210.50</td>\n",
       "      <td>61.015</td>\n",
       "      <td>398472</td>\n",
       "      <td>власти начали обсуждение повышенного налога по...</td>\n",
       "      <td>власти начали обсуждение повышенного налога по...</td>\n",
       "      <td>ru</td>\n",
       "      <td>https://news.mail.ru/rss/economics/90/</td>\n",
       "      <td>https://news.mail.ru/economics/64921034/</td>\n",
       "      <td>6093</td>\n",
       "      <td>1540</td>\n",
       "    </tr>\n",
       "    <tr>\n",
       "      <th>3</th>\n",
       "      <td>2025-02-18</td>\n",
       "      <td>16.60</td>\n",
       "      <td>3264.0</td>\n",
       "      <td>210.50</td>\n",
       "      <td>61.015</td>\n",
       "      <td>398785</td>\n",
       "      <td>минфин начал обсуждение проблемы повышенного н...</td>\n",
       "      <td>минфин начал обсуждение проблемы повышенного н...</td>\n",
       "      <td>ru</td>\n",
       "      <td>https://vedomosti.ru/rss/news</td>\n",
       "      <td>https://www.vedomosti.ru/investments/news/2025...</td>\n",
       "      <td>2520</td>\n",
       "      <td>610</td>\n",
       "    </tr>\n",
       "    <tr>\n",
       "      <th>4</th>\n",
       "      <td>2025-02-18</td>\n",
       "      <td>16.60</td>\n",
       "      <td>3264.0</td>\n",
       "      <td>210.50</td>\n",
       "      <td>61.015</td>\n",
       "      <td>399322</td>\n",
       "      <td>минфин в ответ на жалобы инвесторов на повышен...</td>\n",
       "      <td>минфин в ответ на жалобы инвесторов на повышен...</td>\n",
       "      <td>ru</td>\n",
       "      <td>https://www.forbes.ru/newrss.xml</td>\n",
       "      <td>https://www.forbes.ru/investicii/531040-minfin...</td>\n",
       "      <td>4305</td>\n",
       "      <td>967</td>\n",
       "    </tr>\n",
       "  </tbody>\n",
       "</table>\n",
       "</div>"
      ],
      "text/plain": [
       "   TRADEDATE   RGBI  IMOEXF    RAGR   Urals  story_id  \\\n",
       "0 2025-02-17  16.62  3319.5  216.34  60.395    387746   \n",
       "1 2025-02-17  16.62  3319.5  216.34  60.395    389038   \n",
       "2 2025-02-18  16.60  3264.0  210.50  61.015    398472   \n",
       "3 2025-02-18  16.60  3264.0  210.50  61.015    398785   \n",
       "4 2025-02-18  16.60  3264.0  210.50  61.015    399322   \n",
       "\n",
       "                                               title  \\\n",
       "0  ставка цб индекс мосбиржи старт торгов акциями...   \n",
       "1  акции русагро подскочили на 40 на старте торго...   \n",
       "2  власти начали обсуждение повышенного налога по...   \n",
       "3  минфин начал обсуждение проблемы повышенного н...   \n",
       "4  минфин в ответ на жалобы инвесторов на повышен...   \n",
       "\n",
       "                                                text language  \\\n",
       "0  ставка цб индекс мосбиржи старт торгов акциями...       ru   \n",
       "1  акции русагро подскочили на 40 на старте торго...       ru   \n",
       "2  власти начали обсуждение повышенного налога по...       ru   \n",
       "3  минфин начал обсуждение проблемы повышенного н...       ru   \n",
       "4  минфин в ответ на жалобы инвесторов на повышен...       ru   \n",
       "\n",
       "                                   source  \\\n",
       "0  https://news.mail.ru/rss/economics/90/   \n",
       "1  https://news.mail.ru/rss/economics/90/   \n",
       "2  https://news.mail.ru/rss/economics/90/   \n",
       "3           https://vedomosti.ru/rss/news   \n",
       "4        https://www.forbes.ru/newrss.xml   \n",
       "\n",
       "                                                 url  char_length  token_count  \n",
       "0           https://news.mail.ru/economics/64905638/         7435         1947  \n",
       "1           https://news.mail.ru/economics/64907729/         4192          962  \n",
       "2           https://news.mail.ru/economics/64921034/         6093         1540  \n",
       "3  https://www.vedomosti.ru/investments/news/2025...         2520          610  \n",
       "4  https://www.forbes.ru/investicii/531040-minfin...         4305          967  "
      ]
     },
     "metadata": {},
     "output_type": "display_data"
    },
    {
     "name": "stdout",
     "output_type": "stream",
     "text": [
      "Количество строк в объединенной таблице: 463\n"
     ]
    }
   ],
   "source": [
    "data_ragr = data_prices.merge(data_news, left_on='TRADEDATE', right_on='story_date', how='inner')\n",
    "\n",
    "data_ragr.drop(['story_date'], axis=1, inplace=True)\n",
    "display(data_ragr.head())\n",
    "print('Количество строк в объединенной таблице:', data_ragr.shape[0])"
   ]
  },
  {
   "cell_type": "markdown",
   "id": "38bd8cc0",
   "metadata": {},
   "source": [
    "Датасеты были обьеденены. Получилось 463 новости, имеющих в эти же дни данные о ценах акций."
   ]
  },
  {
   "cell_type": "code",
   "execution_count": 21,
   "id": "16045847",
   "metadata": {},
   "outputs": [
    {
     "name": "stdout",
     "output_type": "stream",
     "text": [
      "Using device: cuda\n"
     ]
    }
   ],
   "source": [
    "device = torch.device('cuda' if torch.cuda.is_available() else 'cpu')\n",
    "print(f\"Using device: {device}\")"
   ]
  },
  {
   "cell_type": "code",
   "execution_count": null,
   "id": "2b32dc99",
   "metadata": {},
   "outputs": [],
   "source": [
    "tokenizer = BertTokenizerFast.from_pretrained('blanchefort/rubert-base-cased-sentiment')\n",
    "model = AutoModelForSequenceClassification.from_pretrained('blanchefort/rubert-base-cased-sentiment', return_dict=True)"
   ]
  },
  {
   "cell_type": "code",
   "execution_count": 55,
   "id": "bdf53044",
   "metadata": {},
   "outputs": [
    {
     "name": "stdout",
     "output_type": "stream",
     "text": [
      "NEUTRAL: 0.1807\n",
      "POSITIVE: 0.0678\n",
      "NEGATIVE: 0.7515\n"
     ]
    }
   ],
   "source": [
    "text = \"Директор компании попал в тюрьму. Компанию Русагро ждет крах\"\n",
    "inputs = tokenizer(text, return_tensors=\"pt\", truncation=True)\n",
    "\n",
    "\n",
    "with torch.no_grad():\n",
    "    outputs = model(**inputs)\n",
    "    probs = F.softmax(outputs.logits, dim=-1).squeeze()\n",
    "\n",
    "label_conf = model.config.id2label.values()\n",
    "\n",
    "for label, prob in zip(label_conf, probs):\n",
    "    print(f\"{label}: {prob:.4f}\")"
   ]
  },
  {
   "cell_type": "code",
   "execution_count": null,
   "id": "14daa1dc",
   "metadata": {},
   "outputs": [],
   "source": []
  }
 ],
 "metadata": {
  "kernelspec": {
   "display_name": "myenv",
   "language": "python",
   "name": "python3"
  },
  "language_info": {
   "codemirror_mode": {
    "name": "ipython",
    "version": 3
   },
   "file_extension": ".py",
   "mimetype": "text/x-python",
   "name": "python",
   "nbconvert_exporter": "python",
   "pygments_lexer": "ipython3",
   "version": "3.12.7"
  }
 },
 "nbformat": 4,
 "nbformat_minor": 5
}
