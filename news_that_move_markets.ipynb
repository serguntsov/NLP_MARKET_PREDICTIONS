{
 "cells": [
  {
   "cell_type": "markdown",
   "id": "80dc0211",
   "metadata": {},
   "source": [
    "### <h2 style=\"font-size: 40px;\">Влияние новостей на стоимость акций</h2>"
   ]
  },
  {
   "cell_type": "markdown",
   "id": "4e037567",
   "metadata": {},
   "source": [
    "#### Техническое задание \n",
    "\n",
    "Разработать модель для анализа сентимента новостей, связанных с компанией «Русагро», и оценить их влияние на динамику стоимости акций."
   ]
  },
  {
   "cell_type": "markdown",
   "id": "7abdec26",
   "metadata": {},
   "source": [
    "#### Описание данных\n",
    "\n",
    "* **`ragr_news.xlsx`** - новости из различных источников с 1 января 2025 по 30 апреля, которые содержат любое упоминание о компании.\n",
    "    - `story_id` - уникальный индентификатор новости\n",
    "    - `story_date` - дата появления новости в 12-часовом формате\n",
    "    - `title` - заголовок новости\n",
    "    - `text` - содержание новости\n",
    "    - `language` - отечественный или иностранный ресурс (ru/en)\n",
    "    - `source` - ссылка на ресурс новости\n",
    "    - `url` - ссылка на новость\n",
    "    - `char_length` - количество символов в новости\n",
    "    - `token_count` - количество слов в новости\n",
    "\n",
    "\n",
    "* **`ragr_prices.xlsx`** - файл с дневными ценами закрытия по ценам акции Русагро (с 17 февраля 2025 года).\n",
    "    - `TRADEDATE` - дата торгов\n",
    "    - `RGBI` - доходность гос. облигаций\n",
    "    - `IMOEXF` - динамика индекса рынка акций MOEX\n",
    "    - `RAGR` - цена закрытия акции\n",
    "    - `Urals` - стоимость нефти марки Юралз"
   ]
  },
  {
   "cell_type": "code",
   "execution_count": 1,
   "id": "335a001d",
   "metadata": {},
   "outputs": [],
   "source": [
    "import pandas as pd\n",
    "import numpy as np\n",
    "import matplotlib.pyplot as plt\n",
    "import seaborn as sns\n",
    "import os.path\n",
    "import nltk\n",
    "import wordninja\n",
    "import re\n",
    "\n",
    "# Собственный русскоязычный словарь словарь \n",
    "wordninja.DEFAULT_LANGUAGE_MODEL = wordninja.LanguageModel('./russian_dictionary/ru_lang_utf8.txt.gz')\n",
    "wordninja._SPLIT_RE = re.compile(r'\\s+')"
   ]
  },
  {
   "cell_type": "markdown",
   "id": "16ccbbf6",
   "metadata": {},
   "source": [
    "### Загрузка данных"
   ]
  },
  {
   "cell_type": "code",
   "execution_count": 2,
   "id": "4a88948e",
   "metadata": {},
   "outputs": [],
   "source": [
    "# Функция для быстрого ознакомления и парсинга таблицы\n",
    "def parse_dataset(path):\n",
    "    df = pd.read_excel(path)\n",
    "    display(df.head())\n",
    "\n",
    "    display(round(df.isna().mean() * 100, 2).sort_values(ascending=False).to_frame(name='Процент пропусков'))\n",
    "\n",
    "    df.info()\n",
    "    return df\n",
    "\n",
    "\n",
    "# Функция для проверки наличия файла\n",
    "def check_dataset(path):    \n",
    "    if os.path.exists(path):\n",
    "        return parse_dataset(path)\n",
    "    else:\n",
    "        print('Неправильный путь к файлу')"
   ]
  },
  {
   "cell_type": "code",
   "execution_count": 3,
   "id": "0f1e6363",
   "metadata": {},
   "outputs": [
    {
     "data": {
      "text/html": [
       "<div>\n",
       "<style scoped>\n",
       "    .dataframe tbody tr th:only-of-type {\n",
       "        vertical-align: middle;\n",
       "    }\n",
       "\n",
       "    .dataframe tbody tr th {\n",
       "        vertical-align: top;\n",
       "    }\n",
       "\n",
       "    .dataframe thead th {\n",
       "        text-align: right;\n",
       "    }\n",
       "</style>\n",
       "<table border=\"1\" class=\"dataframe\">\n",
       "  <thead>\n",
       "    <tr style=\"text-align: right;\">\n",
       "      <th></th>\n",
       "      <th>Unnamed: 0</th>\n",
       "      <th>story_id</th>\n",
       "      <th>story_date</th>\n",
       "      <th>title</th>\n",
       "      <th>text</th>\n",
       "      <th>language</th>\n",
       "      <th>source</th>\n",
       "      <th>url</th>\n",
       "      <th>char_length</th>\n",
       "      <th>token_count</th>\n",
       "    </tr>\n",
       "  </thead>\n",
       "  <tbody>\n",
       "    <tr>\n",
       "      <th>0</th>\n",
       "      <td>4661</td>\n",
       "      <td>5358</td>\n",
       "      <td>1/1/2025 12:00:00 AM</td>\n",
       "      <td>Ц е н т р о б а н к   Р Ф   з а к р ы л   д о ...</td>\n",
       "      <td>Ц е н т р о б а н к Р Ф з а к р ы л д о с т у ...</td>\n",
       "      <td>ru</td>\n",
       "      <td>https://m.interfax.ru/news/</td>\n",
       "      <td>https://m.interfax.ru/1001431</td>\n",
       "      <td>1375</td>\n",
       "      <td>315</td>\n",
       "    </tr>\n",
       "    <tr>\n",
       "      <th>1</th>\n",
       "      <td>15249</td>\n",
       "      <td>17527</td>\n",
       "      <td>1/3/2025 12:00:00 AM</td>\n",
       "      <td>В 2024 году Саратовская область зафиксировала ...</td>\n",
       "      <td>В 2024 году Саратовская область зафиксировала ...</td>\n",
       "      <td>ru</td>\n",
       "      <td>https://www.kommersant.ru/regions/64</td>\n",
       "      <td>https://www.kommersant.ru/doc/7421226</td>\n",
       "      <td>1200</td>\n",
       "      <td>247</td>\n",
       "    </tr>\n",
       "    <tr>\n",
       "      <th>2</th>\n",
       "      <td>46576</td>\n",
       "      <td>53356</td>\n",
       "      <td>1/9/2025 12:00:00 AM</td>\n",
       "      <td>Губернатор Вячеслав Гладков вручил Премию имен...</td>\n",
       "      <td>Губернатор Вячеслав Гладков вручил Премию имен...</td>\n",
       "      <td>ru</td>\n",
       "      <td>https://bel.aif.ru/</td>\n",
       "      <td>https://bel.aif.ru/society/gubernator-gladkov-...</td>\n",
       "      <td>3146</td>\n",
       "      <td>810</td>\n",
       "    </tr>\n",
       "    <tr>\n",
       "      <th>3</th>\n",
       "      <td>49578</td>\n",
       "      <td>57182</td>\n",
       "      <td>1/10/2025 12:00:00 AM</td>\n",
       "      <td>В   П р и м о р ь е   п о с е в н ы е   п л о ...</td>\n",
       "      <td>В П р и м о р ь е п о с е в н ы е п л о щ а д ...</td>\n",
       "      <td>ru</td>\n",
       "      <td>https://tass.ru/ekonomika</td>\n",
       "      <td>https://tass.ru/ekonomika/22847513</td>\n",
       "      <td>2869</td>\n",
       "      <td>652</td>\n",
       "    </tr>\n",
       "    <tr>\n",
       "      <th>4</th>\n",
       "      <td>105012</td>\n",
       "      <td>120289</td>\n",
       "      <td>1/17/2025 12:00:00 AM</td>\n",
       "      <td>17.01.2025 10:31 В аграрном секторе России наз...</td>\n",
       "      <td>17.01.2025 10:31 В аграрном секторе России наз...</td>\n",
       "      <td>ru</td>\n",
       "      <td>https://ru24.net/moscow/rss/</td>\n",
       "      <td>https://ru24.net/moscow/395923374/</td>\n",
       "      <td>2513</td>\n",
       "      <td>529</td>\n",
       "    </tr>\n",
       "  </tbody>\n",
       "</table>\n",
       "</div>"
      ],
      "text/plain": [
       "   Unnamed: 0  story_id             story_date  \\\n",
       "0        4661      5358   1/1/2025 12:00:00 AM   \n",
       "1       15249     17527   1/3/2025 12:00:00 AM   \n",
       "2       46576     53356   1/9/2025 12:00:00 AM   \n",
       "3       49578     57182  1/10/2025 12:00:00 AM   \n",
       "4      105012    120289  1/17/2025 12:00:00 AM   \n",
       "\n",
       "                                               title  \\\n",
       "0  Ц е н т р о б а н к   Р Ф   з а к р ы л   д о ...   \n",
       "1  В 2024 году Саратовская область зафиксировала ...   \n",
       "2  Губернатор Вячеслав Гладков вручил Премию имен...   \n",
       "3  В   П р и м о р ь е   п о с е в н ы е   п л о ...   \n",
       "4  17.01.2025 10:31 В аграрном секторе России наз...   \n",
       "\n",
       "                                                text language  \\\n",
       "0  Ц е н т р о б а н к Р Ф з а к р ы л д о с т у ...       ru   \n",
       "1  В 2024 году Саратовская область зафиксировала ...       ru   \n",
       "2  Губернатор Вячеслав Гладков вручил Премию имен...       ru   \n",
       "3  В П р и м о р ь е п о с е в н ы е п л о щ а д ...       ru   \n",
       "4  17.01.2025 10:31 В аграрном секторе России наз...       ru   \n",
       "\n",
       "                                 source  \\\n",
       "0           https://m.interfax.ru/news/   \n",
       "1  https://www.kommersant.ru/regions/64   \n",
       "2                   https://bel.aif.ru/   \n",
       "3             https://tass.ru/ekonomika   \n",
       "4          https://ru24.net/moscow/rss/   \n",
       "\n",
       "                                                 url  char_length  token_count  \n",
       "0                      https://m.interfax.ru/1001431         1375          315  \n",
       "1              https://www.kommersant.ru/doc/7421226         1200          247  \n",
       "2  https://bel.aif.ru/society/gubernator-gladkov-...         3146          810  \n",
       "3                 https://tass.ru/ekonomika/22847513         2869          652  \n",
       "4                 https://ru24.net/moscow/395923374/         2513          529  "
      ]
     },
     "metadata": {},
     "output_type": "display_data"
    },
    {
     "data": {
      "text/html": [
       "<div>\n",
       "<style scoped>\n",
       "    .dataframe tbody tr th:only-of-type {\n",
       "        vertical-align: middle;\n",
       "    }\n",
       "\n",
       "    .dataframe tbody tr th {\n",
       "        vertical-align: top;\n",
       "    }\n",
       "\n",
       "    .dataframe thead th {\n",
       "        text-align: right;\n",
       "    }\n",
       "</style>\n",
       "<table border=\"1\" class=\"dataframe\">\n",
       "  <thead>\n",
       "    <tr style=\"text-align: right;\">\n",
       "      <th></th>\n",
       "      <th>Процент пропусков</th>\n",
       "    </tr>\n",
       "  </thead>\n",
       "  <tbody>\n",
       "    <tr>\n",
       "      <th>Unnamed: 0</th>\n",
       "      <td>0.0</td>\n",
       "    </tr>\n",
       "    <tr>\n",
       "      <th>story_id</th>\n",
       "      <td>0.0</td>\n",
       "    </tr>\n",
       "    <tr>\n",
       "      <th>story_date</th>\n",
       "      <td>0.0</td>\n",
       "    </tr>\n",
       "    <tr>\n",
       "      <th>title</th>\n",
       "      <td>0.0</td>\n",
       "    </tr>\n",
       "    <tr>\n",
       "      <th>text</th>\n",
       "      <td>0.0</td>\n",
       "    </tr>\n",
       "    <tr>\n",
       "      <th>language</th>\n",
       "      <td>0.0</td>\n",
       "    </tr>\n",
       "    <tr>\n",
       "      <th>source</th>\n",
       "      <td>0.0</td>\n",
       "    </tr>\n",
       "    <tr>\n",
       "      <th>url</th>\n",
       "      <td>0.0</td>\n",
       "    </tr>\n",
       "    <tr>\n",
       "      <th>char_length</th>\n",
       "      <td>0.0</td>\n",
       "    </tr>\n",
       "    <tr>\n",
       "      <th>token_count</th>\n",
       "      <td>0.0</td>\n",
       "    </tr>\n",
       "  </tbody>\n",
       "</table>\n",
       "</div>"
      ],
      "text/plain": [
       "             Процент пропусков\n",
       "Unnamed: 0                 0.0\n",
       "story_id                   0.0\n",
       "story_date                 0.0\n",
       "title                      0.0\n",
       "text                       0.0\n",
       "language                   0.0\n",
       "source                     0.0\n",
       "url                        0.0\n",
       "char_length                0.0\n",
       "token_count                0.0"
      ]
     },
     "metadata": {},
     "output_type": "display_data"
    },
    {
     "name": "stdout",
     "output_type": "stream",
     "text": [
      "<class 'pandas.core.frame.DataFrame'>\n",
      "RangeIndex: 529 entries, 0 to 528\n",
      "Data columns (total 10 columns):\n",
      " #   Column       Non-Null Count  Dtype \n",
      "---  ------       --------------  ----- \n",
      " 0   Unnamed: 0   529 non-null    int64 \n",
      " 1   story_id     529 non-null    int64 \n",
      " 2   story_date   529 non-null    object\n",
      " 3   title        529 non-null    object\n",
      " 4   text         529 non-null    object\n",
      " 5   language     529 non-null    object\n",
      " 6   source       529 non-null    object\n",
      " 7   url          529 non-null    object\n",
      " 8   char_length  529 non-null    int64 \n",
      " 9   token_count  529 non-null    int64 \n",
      "dtypes: int64(4), object(6)\n",
      "memory usage: 41.5+ KB\n"
     ]
    }
   ],
   "source": [
    "data_news = check_dataset('./datasets/ragr_news.xlsx')"
   ]
  },
  {
   "cell_type": "markdown",
   "id": "ace39e32",
   "metadata": {},
   "source": [
    "Датасет **`data_news`** не содержит пропусков. Дату появления новости `story_date` необходимо привести в 24-часовой формат. Название и содержание новости требуют предобработки. Содержание новости `text` содержит заголовок новости и саму новость."
   ]
  },
  {
   "cell_type": "code",
   "execution_count": 4,
   "id": "1ca736b5",
   "metadata": {},
   "outputs": [
    {
     "data": {
      "text/html": [
       "<div>\n",
       "<style scoped>\n",
       "    .dataframe tbody tr th:only-of-type {\n",
       "        vertical-align: middle;\n",
       "    }\n",
       "\n",
       "    .dataframe tbody tr th {\n",
       "        vertical-align: top;\n",
       "    }\n",
       "\n",
       "    .dataframe thead th {\n",
       "        text-align: right;\n",
       "    }\n",
       "</style>\n",
       "<table border=\"1\" class=\"dataframe\">\n",
       "  <thead>\n",
       "    <tr style=\"text-align: right;\">\n",
       "      <th></th>\n",
       "      <th>TRADEDATE</th>\n",
       "      <th>RGBI</th>\n",
       "      <th>IMOEXF</th>\n",
       "      <th>RAGR</th>\n",
       "      <th>Urals</th>\n",
       "    </tr>\n",
       "  </thead>\n",
       "  <tbody>\n",
       "    <tr>\n",
       "      <th>0</th>\n",
       "      <td>2025-02-17</td>\n",
       "      <td>16.62</td>\n",
       "      <td>3319.5</td>\n",
       "      <td>216.34</td>\n",
       "      <td>60.395</td>\n",
       "    </tr>\n",
       "    <tr>\n",
       "      <th>1</th>\n",
       "      <td>2025-02-18</td>\n",
       "      <td>16.60</td>\n",
       "      <td>3264.0</td>\n",
       "      <td>210.50</td>\n",
       "      <td>61.015</td>\n",
       "    </tr>\n",
       "    <tr>\n",
       "      <th>2</th>\n",
       "      <td>2025-02-19</td>\n",
       "      <td>16.58</td>\n",
       "      <td>3285.0</td>\n",
       "      <td>221.92</td>\n",
       "      <td>62.110</td>\n",
       "    </tr>\n",
       "    <tr>\n",
       "      <th>3</th>\n",
       "      <td>2025-02-20</td>\n",
       "      <td>16.41</td>\n",
       "      <td>3298.0</td>\n",
       "      <td>219.52</td>\n",
       "      <td>62.550</td>\n",
       "    </tr>\n",
       "    <tr>\n",
       "      <th>4</th>\n",
       "      <td>2025-02-21</td>\n",
       "      <td>16.37</td>\n",
       "      <td>3295.0</td>\n",
       "      <td>219.02</td>\n",
       "      <td>60.500</td>\n",
       "    </tr>\n",
       "  </tbody>\n",
       "</table>\n",
       "</div>"
      ],
      "text/plain": [
       "   TRADEDATE   RGBI  IMOEXF    RAGR   Urals\n",
       "0 2025-02-17  16.62  3319.5  216.34  60.395\n",
       "1 2025-02-18  16.60  3264.0  210.50  61.015\n",
       "2 2025-02-19  16.58  3285.0  221.92  62.110\n",
       "3 2025-02-20  16.41  3298.0  219.52  62.550\n",
       "4 2025-02-21  16.37  3295.0  219.02  60.500"
      ]
     },
     "metadata": {},
     "output_type": "display_data"
    },
    {
     "data": {
      "text/html": [
       "<div>\n",
       "<style scoped>\n",
       "    .dataframe tbody tr th:only-of-type {\n",
       "        vertical-align: middle;\n",
       "    }\n",
       "\n",
       "    .dataframe tbody tr th {\n",
       "        vertical-align: top;\n",
       "    }\n",
       "\n",
       "    .dataframe thead th {\n",
       "        text-align: right;\n",
       "    }\n",
       "</style>\n",
       "<table border=\"1\" class=\"dataframe\">\n",
       "  <thead>\n",
       "    <tr style=\"text-align: right;\">\n",
       "      <th></th>\n",
       "      <th>Процент пропусков</th>\n",
       "    </tr>\n",
       "  </thead>\n",
       "  <tbody>\n",
       "    <tr>\n",
       "      <th>RGBI</th>\n",
       "      <td>4.05</td>\n",
       "    </tr>\n",
       "    <tr>\n",
       "      <th>TRADEDATE</th>\n",
       "      <td>0.00</td>\n",
       "    </tr>\n",
       "    <tr>\n",
       "      <th>IMOEXF</th>\n",
       "      <td>0.00</td>\n",
       "    </tr>\n",
       "    <tr>\n",
       "      <th>RAGR</th>\n",
       "      <td>0.00</td>\n",
       "    </tr>\n",
       "    <tr>\n",
       "      <th>Urals</th>\n",
       "      <td>0.00</td>\n",
       "    </tr>\n",
       "  </tbody>\n",
       "</table>\n",
       "</div>"
      ],
      "text/plain": [
       "           Процент пропусков\n",
       "RGBI                    4.05\n",
       "TRADEDATE               0.00\n",
       "IMOEXF                  0.00\n",
       "RAGR                    0.00\n",
       "Urals                   0.00"
      ]
     },
     "metadata": {},
     "output_type": "display_data"
    },
    {
     "name": "stdout",
     "output_type": "stream",
     "text": [
      "<class 'pandas.core.frame.DataFrame'>\n",
      "RangeIndex: 74 entries, 0 to 73\n",
      "Data columns (total 5 columns):\n",
      " #   Column     Non-Null Count  Dtype         \n",
      "---  ------     --------------  -----         \n",
      " 0   TRADEDATE  74 non-null     datetime64[ns]\n",
      " 1   RGBI       71 non-null     float64       \n",
      " 2   IMOEXF     74 non-null     float64       \n",
      " 3   RAGR       74 non-null     float64       \n",
      " 4   Urals      74 non-null     float64       \n",
      "dtypes: datetime64[ns](1), float64(4)\n",
      "memory usage: 3.0 KB\n"
     ]
    }
   ],
   "source": [
    "data_prices = check_dataset('./datasets/ragr_prices.xlsx')"
   ]
  },
  {
   "cell_type": "markdown",
   "id": "17846a3a",
   "metadata": {},
   "source": [
    "Датасет **`data_prices`** содержит 4% пропусков в признаке `RGBI`. По возможности, следует добавить данные с 1 января 2025 года."
   ]
  },
  {
   "cell_type": "markdown",
   "id": "989b69d4",
   "metadata": {},
   "source": [
    "#### Вывод загрузки данных\n",
    "\n",
    "Датасеты связаны по дате. Данные в таблице **`data_news`** собраны за период *01.01.2025 - 25.04.2025*, в **`data_prices`** за *17.02.2025 - 29.05.2025*. \\\n",
    "В датасете **`data_prices`** содержатся пропуски."
   ]
  },
  {
   "cell_type": "markdown",
   "id": "f66ddfd4",
   "metadata": {},
   "source": [
    "### Предобработка данных"
   ]
  },
  {
   "cell_type": "code",
   "execution_count": 5,
   "id": "1f9c1338",
   "metadata": {},
   "outputs": [],
   "source": [
    "data_news['story_date'] = pd.to_datetime(data_news['story_date'], format='%m/%d/%Y %I:%M:%S %p')"
   ]
  },
  {
   "cell_type": "markdown",
   "id": "bd41f125",
   "metadata": {},
   "source": [
    "Дата `story_date` из **`data_news`** была переведена в формат 'YYYY-MM-DD'."
   ]
  },
  {
   "cell_type": "code",
   "execution_count": 6,
   "id": "1af6c713",
   "metadata": {},
   "outputs": [
    {
     "data": {
      "text/plain": [
       "array(['ru', 'en'], dtype=object)"
      ]
     },
     "execution_count": 6,
     "metadata": {},
     "output_type": "execute_result"
    }
   ],
   "source": [
    "data_news['language'].unique()"
   ]
  },
  {
   "cell_type": "code",
   "execution_count": 7,
   "id": "1095f00d",
   "metadata": {},
   "outputs": [],
   "source": [
    "# Функция для замены обрезанных по буквам слов\n",
    "def fix_spaced_words(text):\n",
    "    spaced_word_pattern = r'(?:[А-Яа-яЁё]\\s){4,}[А-Яа-яЁё]'\n",
    "\n",
    "    def replace_match(match):\n",
    "        spaced = match.group(0)\n",
    "        glued = spaced.replace(' ', '')\n",
    "        split = ' '.join(wordninja.split(glued))\n",
    "        return split\n",
    "\n",
    "    return re.sub(spaced_word_pattern, replace_match, text)"
   ]
  },
  {
   "cell_type": "code",
   "execution_count": 8,
   "id": "011527d5",
   "metadata": {},
   "outputs": [],
   "source": [
    "data_news['title'] = data_news['title'].apply(lambda x: fix_spaced_words(x))\n",
    "data_news['text'] = data_news['text'].apply(lambda x: fix_spaced_words(x))"
   ]
  },
  {
   "cell_type": "markdown",
   "id": "ec761f8d",
   "metadata": {},
   "source": [
    "Текст и заголовок новостей, имеющий нарезанные буквы (пример: 'П е р е ш е д ш и е н а п р я м о е в л а д е н и е') был предобработан, используя библиотеку wordninja с адаптацией под кириллицу. Данная реализация плохо восстанавливает названия компаний и аббревиатуры даже при их наличии в словаре."
   ]
  },
  {
   "cell_type": "code",
   "execution_count": null,
   "id": "bf7c9e28",
   "metadata": {},
   "outputs": [],
   "source": []
  }
 ],
 "metadata": {
  "kernelspec": {
   "display_name": "myenv",
   "language": "python",
   "name": "python3"
  },
  "language_info": {
   "codemirror_mode": {
    "name": "ipython",
    "version": 3
   },
   "file_extension": ".py",
   "mimetype": "text/x-python",
   "name": "python",
   "nbconvert_exporter": "python",
   "pygments_lexer": "ipython3",
   "version": "3.12.7"
  }
 },
 "nbformat": 4,
 "nbformat_minor": 5
}
