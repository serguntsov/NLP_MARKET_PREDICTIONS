{
 "cells": [
  {
   "cell_type": "markdown",
   "id": "80dc0211",
   "metadata": {},
   "source": [
    "### <h2 style=\"font-size: 40px;\">Влияние новостей на стоимость акций</h2>"
   ]
  },
  {
   "cell_type": "markdown",
   "id": "bba8258f",
   "metadata": {},
   "source": []
  }
 ],
 "metadata": {
  "kernelspec": {
   "display_name": "practicum",
   "language": "python",
   "name": "python3"
  },
  "language_info": {
   "name": "python",
   "version": "3.9.22"
  }
 },
 "nbformat": 4,
 "nbformat_minor": 5
}
